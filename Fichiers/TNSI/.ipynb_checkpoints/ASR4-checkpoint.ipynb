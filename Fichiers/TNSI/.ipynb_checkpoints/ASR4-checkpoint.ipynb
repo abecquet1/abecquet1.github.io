{
 "cells": [
  {
   "cell_type": "markdown",
   "id": "470d7476",
   "metadata": {},
   "source": [
    "# ASR4 - Sécurisation des communications\n",
    "\n",
    "# TP - Cryptographie \n",
    "\n",
    "La cryptographie est la science portant sur le **chiffrement** et le **déchiffrement** de données, c'est à dire de la transformation de celles-ci dans le but de les rendre incompréhensibles à quiconque ne dispose pas de la bonne **clé**. \n",
    "\n",
    "Nous allons à travers ce TP, en découvrir plusieurs méthodes.\n"
   ]
  },
  {
   "cell_type": "markdown",
   "id": "cd5b5db6",
   "metadata": {},
   "source": [
    "## 1 - Préparation\n",
    "\n",
    "### 1.1 - Échange de fichiers textes sur canal public\n",
    "\n",
    "Ce TP a pour objectif de vous faire échanger des messages les uns avec les autres de manière sécurisée par de biais d'un cannal de discussion public. Nous allons pour cela utiliser un thread discord : \n",
    "\n",
    "> Q1 - Connectez-vous au serveur discord et rejoignez le thread CRYPTO (j'espère que ça va marcher avec les raspberry)\n",
    "\n",
    "Sur ce thread, vous allez vous échanger des messages sous la forme de fichiers textes. Les consignes suivantes sont à respecter :\n",
    "\n",
    "- Un fichier a un **destinataire** spécifié dans le nom du fichier : `toto.txt` est destiné à Toto. \n",
    "- Un fichier peut être **clair** ou **chiffré**, le nom d'un fichier chiffré est préfixé selon son protocole de chiffrement :\n",
    "\n",
    "| Protocole de chiffrement | Préfixe          | Exemple        |\n",
    "| ------------------------ | ---------------- | -------------- |\n",
    "| Aucun                    |                  | `toto.txt`     |\n",
    "| César                    | `ces`            | `ces_toto.txt` |\n",
    "| XOR                      | `xor`            | `xor_toto.txt` |\n",
    "| Merkle                   | `mer`            | `mer_toto.txt` |\n",
    "| Diffie-Hellman           | `dhm`            | `dhm_toto.txt` |\n",
    "| RSA                      | `rsa`            | `rsa_toto.txt` |\n",
    "\n",
    "- Excepté pour les méthodes de Merkle et Diffie-Hellman, un fichier commence par la ligne `Aujourd'hui il fait beau, Toto va à la plage.`.\n",
    "\n",
    "> Q2 - Regroupez-vous par binomes puis échangez vous sur le thread un message clair en respectant les consignes.\n",
    "\n",
    "### 1.2 - Type bytes en Python, encodage \n",
    "\n",
    "Le type Python `bytes` correspond à une **chaîne non-mutable et non-modifiable d'octets**, il d'agît d'un type de donné très proche des données brutes manipulées dans une machine ou échangées sur un réseau. Travailler avec de tels objets, plutôt que par exemple avec des chaînes de caractère permet donc de mieux rentrer dans les détails des chiffrements que nous allons voir mais aussi de manipuler des fichiers n'étant pas forcément des textes. \n",
    "\n",
    "On peut construire des objets de ce type de plusieurs manières :\n"
   ]
  },
  {
   "cell_type": "code",
   "execution_count": 14,
   "id": "3a6a7baa",
   "metadata": {},
   "outputs": [
    {
     "name": "stdout",
     "output_type": "stream",
     "text": [
      "b'A{\\xeb7'\n",
      "4 65 123\n",
      "\n",
      "b'\\xc3\\xa9l\\xc3\\xa8ve'\n",
      "7 195 169\n",
      "\n",
      "b'\\x04\\x01'\n",
      "2 4 1\n",
      "\n"
     ]
    }
   ],
   "source": [
    "# À partir de tableaux d'entiers entre 0 et 255\n",
    "\n",
    "t = [65,123,235,55]\n",
    "b = bytes(t)\n",
    "t = list(b)\n",
    "\n",
    "print(b)\n",
    "print(len(b), b[0], b[1])\n",
    "print()\n",
    "\n",
    "\n",
    "# En encodant une chaîne de caractère en utf-8\n",
    "\n",
    "s = \"élève\"\n",
    "b = s.encode() \n",
    "s = b.decode()   # les méthodes encodes et décode peuvent prendre en argument le format d'encodage, par défaut, il s'agît de l'utf-8\n",
    "\n",
    "print(b)\n",
    "print(len(b), b[0], b[1])\n",
    "print()\n",
    "\n",
    "# À partir d'un entier qu'on écrit en base 256\n",
    "\n",
    "n = 1025\n",
    "b = int.to_bytes(n,2,'big')   # l'argument 2 sert à préciser le nombre d'octets à utiliser pour encoder l'entier \n",
    "n = int.from_bytes(b, 'big')  # dans les deux cas, l'argument 'big' sert à préciser qu'on lit le binaire de gauche à droite\n",
    "\n",
    "print(b)\n",
    "print(len(b), b[0], b[1])\n",
    "print()"
   ]
  },
  {
   "cell_type": "markdown",
   "id": "77d29318",
   "metadata": {},
   "source": [
    "> 3. Convertir le tableau `[65,66,67]` en bytes et afficher le résultat, comment l'expliquer ?\n",
    "> 4. Convertir le texte `\"école\"` en bytes et en afficher la taille. Pourquoi n'obtient-on pas 5 ? \n",
    "> 5. Convertir l'entier `2000` en un bytes `b` (2 octets) et afficher les valeurs de `b[1]` et `b[0]`. Retrouver ces valeurs par le calcul."
   ]
  },
  {
   "cell_type": "markdown",
   "id": "ae7f4ffb",
   "metadata": {},
   "source": [
    "Afin de lire et écrire dans nos fichiers textes en Pyhton, nous utiliserons le script suivant : "
   ]
  },
  {
   "cell_type": "code",
   "execution_count": 22,
   "id": "c2d43a0e",
   "metadata": {},
   "outputs": [],
   "source": [
    "### Chargement des octets composants le fichier \"toto.txt\" dans un bytes b\n",
    "\n",
    "f = open(\"toto.txt\", 'rb')  # ouvre un flux de données binaires en lecture provenant de \"toto.txt\" \n",
    "b = f.read()                # stocke le contenu du fichier dans un bytes b \n",
    "f.close()                   # coupe le flux\n",
    "\n",
    "\n",
    "### Sauvegarde des octets du bytes b dans le fichier \"toto.txt\"\n",
    "\n",
    "f = open(\"toto.txt\", 'wb')  # ouvre un flux de données binaires en lecture provenant de \"toto.txt\" \n",
    "f.write(b)                  # stocke le contenu du fichier dans un bytes b \n",
    "f.close()                   # coupe le flux"
   ]
  },
  {
   "cell_type": "markdown",
   "id": "a7f92d7c",
   "metadata": {},
   "source": [
    "> Q6 - Écrire un script Python comptant le nombre de lettres `'a'` dans un fichier texte.\n",
    "> Q7 - Écrire un script Python générant un fichier texte `\"hello.txt\"` contenant le texte `\"hello world!\"`.\n",
    "\n",
    "\n",
    "\n",
    "### 1.3 - Données interprétées, données encodées, données chiffrées\n",
    "\n",
    "Il est important avant de passer à la suite de bien distinguer les différentes formes sous lesquelles des données peuvent être manipulées. Pour cela, prenons l'exemple d'un lecteur de musique. \n",
    "\n",
    "- données interprétée : pour notre logiciel, un fichier son est une suite de fréquences à transmette à un système son à intervalle de temps régulié. En Python, on pourrait imaginer garder en mémoire:\n",
    " - le nombre `N` (`int`) de sons joués par seconde ;\n",
    " - un tableau `t` dont les valeurs sont de type `float`, la liste de toutes les fréquences à jouer.\n",
    " \n",
    " \n",
    " \n",
    "- données encodées : pour garder en mémoire un fichier son sur un ordinateur, celui-ci doit être mis sous la forme d'une suite de bits 0/1 ou encore d'une suites d'octets, on parle alors de fichier **encodé**. La méthode permettant de passer de données interprétées à des données encodées est appelé le **format d'encodage**, il donne généralement son extention au fichier.\n",
    " - dans notre exemple, on peut encoder notre fichier au format mp3, wav, wma, midi, etc. ;\n",
    " - pour encoder des nombre relatif, on peut utiliser le complément à deux sur un certain nombre de bits (ce n'est pas ce que fait Python) ;\n",
    " - pour encoder des flottants, on utilise le format IEEE754 simple ou double ;\n",
    " - pour encoder un texte, on peut utiliser selon le texte les formats ASCII, latin-$n$, UTF-8, UTF-16, UTF-32, etc.\n",
    " \n",
    " \n",
    " \n",
    " \n",
    "- données chiffrées : si on veut envoyer par mail un fichier sensible `\"top_secret.mp3\"`, on a tout intérêt à le modifier de sorte qu'une personne malveillance qui intercepterait le mail ne puisse pas le lire sans en avoir l'autorisation. On va donc générer un nouveau fichier `\"top_secret_crypte\"` (l'extention n'a pas d'importance) à partir des octets de `\"top_secret.mp3\"` à l'aide d'un **algorithme de chiffrement**, et c'est ce fichier que l'on va envoyer. Le destinataire, avec qui on se sera miis d'accord au préalable, devra alors déchiffrer le fichier avant de le lancer avec son propre lecteur.\n",
    "\n",
    "\n",
    "\n"
   ]
  },
  {
   "cell_type": "markdown",
   "id": "eecd0fb9",
   "metadata": {},
   "source": [
    "## 2 - Chiffrements symétriques\n",
    "\n",
    "Un **algorithme de chiffrement symétrique** est une méthode permettant de chiffrer des données à l'aide d'une certaine **clée**, cette **même clée** étant nécessaire pour déchiffrer les données.\n",
    "\n",
    "### 2.1 - Chiffrement de César\n",
    "\n",
    "### Principe\n",
    "\n",
    "Le chiffrement de César consiste, dans sa version historique, à effectuer un décalage d'un certin nombre des 26 lettres de l'alphabet dans le but de chiffrer un texte, chaque lettre étant remplacée par une autre. **La valeur du décalage constitue la clé du chiffrement**. \n",
    "\n",
    "Par exemple, avec un décalage de k=3 on transforme les lettre d'un message de la façon suivante :\n",
    "\n",
    "| a | b | c | d | e | f | g | h | i | j | k | l | m | n | o | p | q | r | s | t | u | v | w | x | y | z |\n",
    "|-|-|-|-|-|-|-|-|-|-|-|-|-|-|-|-|-|-|-|-|-|-|-|-|-|-|\n",
    "| d | e | f | g | h | i | j | k | l | m | n | o | p | q | r | s | t | u | v | w | x | y | z | a | b | c |\n",
    "\n",
    "Le message `\"coucou\"` est chiffré en `\"frxfrx\"`.\n",
    "\n",
    "À l'inverse, une personne voulant déchiffrer un message devra alors savoir que le texte original a subit un décalage de 3 pour pouvoir le déchiffrer à l'aide du tableau inverse : \n",
    "\n",
    "| a | b | c | d | e | f | g | h | i | j | k | l | m | n | o | p | q | r | s | t | u | v | w | x | y | z |\n",
    "|-|-|-|-|-|-|-|-|-|-|-|-|-|-|-|-|-|-|-|-|-|-|-|-|-|-|\n",
    "| x | y | z | a | b | c | d | e | f | g | h | i | j | k | l | m | n | o | p | q | r | s | t | u | v | w |\n",
    "\n",
    "Le message chiffré `\"khoor\"` se déchiffre ainsi en `\"hello\"`.\n",
    "\n",
    "> Q1 - chiffrer le message `\"bonjour\"` avec la clé `k = 16`. \n",
    "\n",
    "### Implémentation \n",
    "\n",
    "Informatiquement, il ne sert à rien de ne chiffrer que les lettres. Il est préférable de travailler sur les octets du fichier encodé.\n",
    "\n",
    "> 2.a. écrire une fonction `cesar(b:bytes, k:int) -> bytes` prenant en argument une chaîne d'octets `b` et une clé entière `k` et renvoyant la chaîne d'octets obtenue en décalant les octets de `k` (après 255, on revient à 0). \n",
    "\n"
   ]
  },
  {
   "cell_type": "code",
   "execution_count": null,
   "id": "d4636adc",
   "metadata": {},
   "outputs": [],
   "source": [
    "def cesar(b:bytes, k:int)->bytes:\n",
    "    # à compléter "
   ]
  },
  {
   "cell_type": "markdown",
   "id": "1c5f40b2",
   "metadata": {},
   "source": [
    "> Q2.b - Ci-dessous se trouve un `bytes` chiffré à l'aide de cette fonction avec la clé `k = 149`. Avec quelle clé peut-on le déchiffrer ? "
   ]
  },
  {
   "cell_type": "code",
   "execution_count": 11,
   "id": "918953c9",
   "metadata": {},
   "outputs": [
    {
     "data": {
      "text/plain": [
       "b'\\xd7\\x08\\xf6\\x0c\\x05\\xc1\\xb5\\n\\x0b\\xb5\\xf6\\t\\xb5\\x08Y?\\x0b\\t\\t\\xfe\\xb5Y6\\xb5\\xf9Y?\\xf8\\x05\\xf9\\xfa\\x08\\xb5\\x02\\xfa\\xb5\\x03\\xfa\\t\\t\\xf6\\xfc\\xfa\\xb5\\xb6\\xb5\\xdf\\xbc\\xfa\\t\\x06Y>\\x08\\xfa\\xb5\\x07\\x0b\\xfa\\xb5\\n\\x0b\\xb5\\n\\xbc\\xf6\\x03\\x0b\\t\\xfa\\t\\xb5\\xf7\\xfe\\xfa\\x04\\xb5\\xfa\\n\\xb5\\xf7\\x05\\x04\\xb5\\xf8\\x05\\x0b\\x08\\xf6\\xfc\\xfa\\xb5\\x06\\x05\\x0b\\x08\\xb5\\x02\\xf6\\xb5\\t\\x0b\\xfe\\n\\xfa\\xb5\\xb6'"
      ]
     },
     "execution_count": 11,
     "metadata": {},
     "output_type": "execute_result"
    }
   ],
   "source": [
    "b'\\xd7\\x08\\xf6\\x0c\\x05\\xc1\\xb5\\n\\x0b\\xb5\\xf6\\t\\xb5\\x08Y?\\x0b\\t\\t\\xfe\\xb5Y6\\xb5\\xf9Y?\\xf8\\x05\\xf9\\xfa\\x08\\xb5\\x02\\xfa\\xb5\\x03\\xfa\\t\\t\\xf6\\xfc\\xfa\\xb5\\xb6\\xb5\\xdf\\xbc\\xfa\\t\\x06Y>\\x08\\xfa\\xb5\\x07\\x0b\\xfa\\xb5\\n\\x0b\\xb5\\n\\xbc\\xf6\\x03\\x0b\\t\\xfa\\t\\xb5\\xf7\\xfe\\xfa\\x04\\xb5\\xfa\\n\\xb5\\xf7\\x05\\x04\\xb5\\xf8\\x05\\x0b\\x08\\xf6\\xfc\\xfa\\xb5\\x06\\x05\\x0b\\x08\\xb5\\x02\\xf6\\xb5\\t\\x0b\\xfe\\n\\xfa\\xb5\\xb6'"
   ]
  },
  {
   "cell_type": "markdown",
   "id": "d57f4f67",
   "metadata": {},
   "source": [
    "> Q3.a - À l'aide d'un éditeur de texte, écrire un message secret à destination de votre binome.\n",
    "\n",
    "> Q3.b - Mettez vous d'accord (de manière discrète !) sur une clé de chiffrement partargée.\n",
    "\n",
    "> Q3.c - Écrivez programme Python permettant de chiffrer votre message avec la clé choisie.\n",
    "\n",
    "> Q3.d - Transmettez ce message à votre binome en passant par le canal public. \n",
    "\n",
    "> Q3.e - Écrivez programme Python permettant de déchiffrer le message de votre binome."
   ]
  },
  {
   "cell_type": "markdown",
   "id": "206c1277",
   "metadata": {},
   "source": [
    "### 2.2 - Chiffrement XOR\n",
    "\n",
    "### Petit rappel de première : la fonction booléenne XOR \n",
    "\n",
    "On définit la fonction XOR (ou exclusif) par la table de vérité suivante : \n",
    "\n",
    "| x | y | x $\\oplus$ y |\n",
    "| - | - | - |\n",
    "| 0 | 0 | 0 |\n",
    "| 0 | 1 | 1 |\n",
    "| 1 | 0 | 1 |\n",
    "| 1 | 1 | 0 |\n",
    "\n",
    "Cette fonction possède une propriété intéressante pour le chiffrement de données binaires : \n",
    "\n",
    "*Quelques soient $x$ et $y$ $\\in\\mathbb{B}$,*\n",
    "$$\n",
    "(x\\oplus y)\\oplus y = x\n",
    "$$\n",
    "\n",
    "On voit qu'un booléen $y$ peut donc servir de clé de chiffrement pour un autre booléen $x$. Dit comme cela ce n'est pas très intéressant, mais consirérons maintenant l'opération XOR sur un octet (8-bits). Étant donnés deux octets $X$ et $Y$, on obtient l'octet $X\\oplus Y$ en effectuant l'opération XOR sur chacuns des 8 bits de $X$ et de $Y$.\n",
    "\n",
    "Prenons un exemple : \n",
    "\n",
    "\n",
    "$$\n",
    "\\begin{array}{cc cccc cccc}\n",
    " &&1&1&1&0& &0&1&0&1\\\\\n",
    "\\oplus&&1&0&1&1& &0&0&0&1\\\\\n",
    "\\hline\n",
    "=&&0&1&0&1& &0&1&0&0\\\\\n",
    "\\end{array}\n",
    "$$\n",
    "\n",
    "Biensur, la propriété valable pour les bits reste valable pour les octets, on a toujours *quelques soient les octets $X$ et $Y$,* \n",
    "$$\n",
    "(X\\oplus Y)\\oplus Y = X\n",
    "$$\n",
    "\n",
    "Vérifions le sur notre exemple\n",
    "\n",
    "$$\n",
    "\\begin{array}{cc cccc cccc}\n",
    " &&1&1&1&0& &0&1&0&1\\\\\n",
    "\\oplus&&1&0&1&1& &0&0&0&1\\\\\n",
    "\\hline\n",
    "=&&0&1&0&1& &0&1&0&0\\\\\n",
    "\\oplus&&1&0&1&1& &0&0&0&1\\\\\n",
    "\\hline\n",
    "=&&1&1&1&0& &0&1&0&1\\\\\n",
    "\\end{array}\n",
    "$$\n",
    "\n",
    "En Python, l'opérateur XOR a pour symbole `^` et peut être utilisé entre deux entiers, l'opération étant effectuée bit par bit de leur écriture binaire. "
   ]
  },
  {
   "cell_type": "code",
   "execution_count": 9,
   "id": "0b0647b8",
   "metadata": {},
   "outputs": [
    {
     "name": "stdout",
     "output_type": "stream",
     "text": [
      "91\n"
     ]
    }
   ],
   "source": [
    "X = 234\n",
    "Y = 177\n",
    "print(X^Y)"
   ]
  },
  {
   "cell_type": "markdown",
   "id": "2cd32599",
   "metadata": {},
   "source": [
    "> Q4.a - Vérifier que ce calcul correspond à l'exemple donné plus haut en coalculant les écritures binaire de 234, 177 et 91. \n",
    "\n",
    "> Q4.b - Vérifier la propriété $(X\\oplus K) \\oplus K = X$ avec quelques exemples.\n",
    "\n",
    "### Algorithme de chiffrement \n",
    "\n",
    "On se donne une clé `k` sous la forme d'une chaîne de caractère. Si on veut chiffrer une chaîne d'octets `b`, on procède comme suit : \n",
    "\n",
    "1. convertir `k` en chaîne d'octets ;\n",
    "2. pour chaque octet de `b` :\n",
    " 1. faire correspondre cet octet avec un octet de `k` (si `k` a trop peu d'octet, on repart au premier) ;\n",
    " 2. appliquer l'opération XOR ;\n",
    "3. renvoyer la chaîne d'octets ainsi construite.\n",
    "\n",
    "> Q5.a - Écrire une fonction `xor(b:bytes, k;str) -> bytes` réalisant cet algorithme.\n",
    " "
   ]
  },
  {
   "cell_type": "code",
   "execution_count": null,
   "id": "e33b4b12",
   "metadata": {},
   "outputs": [],
   "source": [
    "def xor(b:bytes, k;str) -> byte:\n",
    "    pass # à compléter "
   ]
  },
  {
   "cell_type": "markdown",
   "id": "a479289b",
   "metadata": {},
   "source": [
    "> Q5.b - Ci-dessous se trouve un `bytes` chiffré à l'aide de cette fonction avec la clé `k = \"martingale\"`. Avec quelle clé peut-on le déchiffrer ? "
   ]
  },
  {
   "cell_type": "code",
   "execution_count": 12,
   "id": "bf52aead",
   "metadata": {},
   "outputs": [
    {
     "data": {
      "text/plain": [
       "b')\\xa2\\xdb\\x17\\x00\\n\\xa4\\xc8\\x01\\x00\\x03\\x15R\\x1b\\x07N\\t\\x04L\\x11J\\x00\\x00\\x06\\xaa\\xc4\\x13\\x04L\\x15\\x0c\\x12RUI,\\x15\\x00\\x1a\\nM@'"
      ]
     },
     "execution_count": 12,
     "metadata": {},
     "output_type": "execute_result"
    }
   ],
   "source": [
    "b')\\xa2\\xdb\\x17\\x00\\n\\xa4\\xc8\\x01\\x00\\x03\\x15R\\x1b\\x07N\\t\\x04L\\x11J\\x00\\x00\\x06\\xaa\\xc4\\x13\\x04L\\x15\\x0c\\x12RUI,\\x15\\x00\\x1a\\nM@'"
   ]
  },
  {
   "cell_type": "markdown",
   "id": "85900fb1",
   "metadata": {},
   "source": [
    "> 6.a. À l'aide d'un éditeur de texte, écrire autre un message secret à destination de votre binome.\n",
    "\n",
    "> 6.b. Mettez vous d'accord (de manière discrète !) sur une clé de chiffrement partargée.\n",
    "\n",
    "> 6.c. Écrivez programme Python permettant de chiffrer votre message avec la clé choisie.\n",
    "\n",
    "> 6.d. Transmettez ce message à votre binome en passant par le canal public. \n",
    "\n",
    "> 7.e. Écrivez programme Python permettant de déchiffrer le message de votre binome."
   ]
  },
  {
   "cell_type": "markdown",
   "id": "a7d496c8",
   "metadata": {},
   "source": [
    "## 3 - Chiffrements asymétriques\n",
    "\n",
    "\n",
    "Les chiffrements symétriques sont bien pratiques pour chiffrer des données, mais possèdent une faille majeure : pour s'échanger des messages à l'aide de tels algorithmes, la connaissance de la clé de chiffrement est nécessaire au destinataire afin de déchiffrer le message de l'émetteur. Pour les utiliser, on doit donc se mettre d'accord sur une clé commune. Or :\n",
    "\n",
    "- pas question de se rencontrer physiquement ou d'utiliser un autre canal (cela déplace le problème) ;\n",
    "- pas question de partager la clé de chiffrement en clair (sinon n'importe qui pourra déchiffrer le message).\n",
    "\n",
    "Nous allons voir trois méthodes permettant à deux interlocteurs de se mettre d'accord sur une clé de chiffrement de manère sécurisée, c'est à dire sans qu'un intervenant extérieur ne puisse deviner celle-ci.\n",
    "\n",
    "Pour plus de clareté dans la suite, et afin de décrire les protocoles d'échange de clés, nous désignerons les protagonistes de l'échange avec les noms suivants :\n",
    "\n",
    "- Alice est l'emettrice ;\n",
    "- Bob est le destinataire ; \n",
    "- Eve est une personne cherchant à espionner la conversation entre Alice et Bob.\n",
    "\n",
    "Dans tous les cas, Alice et Bob doivent réussir à se mettre d'accord sur une clé de chiffrement commune en communiquant sur un canal public, sans qu'Eve (qui peut intercepter leurs messages) ne puisse la deviner. \n",
    "\n",
    "### 3.1 Méthode des puzzles de Merkle\n",
    "\n",
    "Le principe des puzzle de Merkle est le suivant : \n",
    "\n",
    "1. Alice génère un grand nombre (par exemple `N = 10000`) de triplets aléatoires `(identifiant, grande_clé, petite_clé)`. Les chiffres du tableau se-dessous sont des valeurs à respecter pour le TP. \n",
    "\n",
    "\n",
    " | chaîne        | utilité                                      | taille | code ASCII des caractères |\n",
    " | ------------- | -------------------------------------------- |------- | ------------------------- |\n",
    " | `identifiant` | sert à identifier les lignes de manière sûre | 12     | entre 33 et 126           |\n",
    " | `grande_cle`  | proposition de clé commune                   | 16     | entre 33 et 126           |\n",
    " | `petite_cle`  | clé servant à chiffrer la ligne              | 4      | entre 65 et 90            |\n",
    " \n",
    " \n",
    "2. Alice génère N lignes de la forme `\"identifiant : <identifiant>, cle <grande_cle>\"`, les encode et les chiffre avec la `petite_cle` correspondante (ici avec un chiffrement XOR). Elle concatène ses lignes et les sauvegarde dans un fichier chiffré.\n",
    "\n",
    "\n",
    "3. Alice envoie le fichier chiffré à Bob. \n",
    "\n",
    "\n",
    "4. Bob choisit une ligne au hasard et casse le chiffrement de cette ligne par force brute (c'est à dire qu'il essaie toutes les combinaisons possible de `petite_clé` dans le but d'obtenir un message commençant par `\"identifiant : ...\"`)\n",
    "\n",
    "\n",
    "6. Bob envoie à Alice et en clair l'`identifiant` de la ligne.\n",
    "\n",
    "\n",
    "7. Alice et Bob peuvent communiquer avec la `grande_clé` correspondante.\n",
    "\n",
    "\n",
    "> Q1 - En imaginant que Bob mette environs 10 seconde à casser le chiffrement de la ligne qu'il a choisit, expliquer pourquoi Eve ne pourra pas facilement deviner la clé commune.\n",
    "\n",
    "> Q2 - Écrire des fonctions Pythons permettant de réaliser les étapes 1, 2 et 4 de la méthode.\n",
    "\n"
   ]
  },
  {
   "cell_type": "code",
   "execution_count": 16,
   "id": "5b226f35",
   "metadata": {},
   "outputs": [],
   "source": [
    "def generer(N:int)->list[tuple[str, str, str]]:\n",
    "    \"\"\"renvoie le tableau des id, K, k\"\"\"\n",
    "    pass # à compléter\n",
    "\n",
    "def chiffrer(t:list[tuple[str, str, str]])->bytes:\n",
    "    \"\"\"chiffre le tableau ligne par ligne avec les petites clés\"\"\"\n",
    "    pass # à compléter\n",
    "\n",
    "def choix(bytes)->tuple[str, str]:\n",
    "    \"\"\"choisit une ligne du tableau, casse le chiffrement et renvoie la clé et son identifiant\"\"\"\n",
    "    pass # à compléter"
   ]
  },
  {
   "cell_type": "markdown",
   "id": "7467ac6b",
   "metadata": {},
   "source": [
    "> Q3 - En passant par le canal public, utilisez cette méthode pour vous mettre d'accord avec votre binôme sur une clé de chiffrement puis échangez-vous quelques message chiffrés à l'aide de cette clé.\n",
    "\n",
    "\n",
    "### 3.2 La méthode Diffie-Hellman\n",
    "\n",
    "\n",
    "\n",
    "### 3.3 Le chiffrement RSA"
   ]
  }
 ],
 "metadata": {
  "kernelspec": {
   "display_name": "Python 3 (ipykernel)",
   "language": "python",
   "name": "python3"
  },
  "language_info": {
   "codemirror_mode": {
    "name": "ipython",
    "version": 3
   },
   "file_extension": ".py",
   "mimetype": "text/x-python",
   "name": "python",
   "nbconvert_exporter": "python",
   "pygments_lexer": "ipython3",
   "version": "3.10.0"
  }
 },
 "nbformat": 4,
 "nbformat_minor": 5
}
