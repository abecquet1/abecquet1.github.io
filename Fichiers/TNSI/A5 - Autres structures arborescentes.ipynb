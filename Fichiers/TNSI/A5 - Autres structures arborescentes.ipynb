{
 "cells": [
  {
   "cell_type": "markdown",
   "id": "6e9d1541",
   "metadata": {},
   "source": [
    "# A5 - Autres structures arborescentes\n",
    "\n",
    "Nous avons déjà défini et travaillé aves les arbres binaires dans lesquels chaque noeud non-vide possède exécatement deux fils. On peut parfaitement concevoir des arbre plus généraux dans lesquels les noeuds ont un nombre quelconque de fils.\n",
    "\n",
    "## 1 - Implémentation Python\n",
    "\n",
    "Redéfinissons la classe `Noeud` de sorte de ne plus stocker des sous-arbres gauche et droit mais plutôt un tableau (éventuellement vide) de sous arbres.\n",
    "\n"
   ]
  },
  {
   "cell_type": "code",
   "execution_count": 2,
   "id": "83aa0b59",
   "metadata": {},
   "outputs": [
    {
     "name": "stdout",
     "output_type": "stream",
     "text": [
      "9\n",
      "1 2 3 5 8 9 6 4 7 salut !\n"
     ]
    }
   ],
   "source": [
    "class Noeud:\n",
    "    \"\"\"Arbres généraux\"\"\"\n",
    "    def __init__(self, v, f = []):\n",
    "        self.valeur = v\n",
    "        self.fils = f\n",
    "        \n",
    "def taille(a):\n",
    "    \"\"\"renvoie le nombre de valeurs de l'arbre a\"\"\"\n",
    "    if a is None: \n",
    "        return 0\n",
    "    else:\n",
    "        res = 1\n",
    "        for b in a.fils:\n",
    "            res+=taille(b)\n",
    "        return res\n",
    "        \n",
    "def parcours_prefixe(a):\n",
    "    \"\"\"affiche les valeurs de a dans l'ordre préfixe\"\"\"\n",
    "    if a is not None:\n",
    "        print(a.valeur, end = \" \")\n",
    "        for b in a.fils:\n",
    "            parcours_prefixe(b)\n",
    "        \n",
    "#tests \n",
    "a = Noeud(1, [Noeud(2), Noeud(3, [Noeud(5, [Noeud(8), Noeud(9)]), Noeud(6, [])]), Noeud(4, [Noeud(7)])])\n",
    "print(taille(a))\n",
    "parcours_prefixe(a)\n"
   ]
  },
  {
   "cell_type": "markdown",
   "id": "b0bd2a82",
   "metadata": {},
   "source": [
    "## 2 - Le format XML \n",
    "\n",
    "Le format XML est un format de stockage d'informations arborescentes. Comme le langage HTML, il repose sur l'utilisation de balises `<>` mais en laissant une liberté quasi totale pour les noms de celles-ci.  \n",
    "\n",
    "Prenons un exemple de fichier XML "
   ]
  },
  {
   "cell_type": "raw",
   "id": "f87f74ab",
   "metadata": {},
   "source": [
    "<recette difficulté = \"facile\">\n",
    "    <titre>Crèpes sucrées</titre>\n",
    "    <temps>1h</temps>\n",
    "    <note>pour 10 personnes</note>\n",
    "    <ingrédients>\n",
    "        <i q = \"200g\">farine</i>\n",
    "        <i q = \"40g\">sucre</i>\n",
    "        <i q = \"2\">oeufs</i>\n",
    "        <i q = \"40cL\">lait</i>\n",
    "    </ingrédients>\n",
    "    <étapes>\n",
    "        <e>mélanger les ingrédients solides</e>\n",
    "        <e>ajouter le lait</e>\n",
    "        <e>laisser reposer </e>\n",
    "        <e>cuire sur une poêle beurée</e>\n",
    "    </étapes>\n",
    "</recette>"
   ]
  },
  {
   "cell_type": "code",
   "execution_count": null,
   "id": "b10cb700",
   "metadata": {},
   "outputs": [],
   "source": []
  }
 ],
 "metadata": {
  "kernelspec": {
   "display_name": "Python 3 (ipykernel)",
   "language": "python",
   "name": "python3"
  },
  "language_info": {
   "codemirror_mode": {
    "name": "ipython",
    "version": 3
   },
   "file_extension": ".py",
   "mimetype": "text/x-python",
   "name": "python",
   "nbconvert_exporter": "python",
   "pygments_lexer": "ipython3",
   "version": "3.10.0"
  }
 },
 "nbformat": 4,
 "nbformat_minor": 5
}
