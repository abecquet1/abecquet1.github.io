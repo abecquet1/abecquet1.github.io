{
  "cells": [
    {
      "cell_type": "markdown",
      "id": "470d7476",
      "metadata": {
        "id": "470d7476"
      },
      "source": [
        "# ASR4 - Sécurisation des communications\n",
        "\n",
        "# TP - Cryptographie \n",
        "\n",
        "La cryptographie est la science portant sur le **chiffrement** et le **déchiffrement** de données, c'est à dire de la transformation de celles-ci dans le but de les rendre incompréhensibles à quiconque ne dispose pas de la bonne **clé**. \n",
        "\n",
        "Nous allons à travers ce TP, en découvrir plusieurs méthodes.\n"
      ]
    },
    {
      "cell_type": "markdown",
      "id": "cd5b5db6",
      "metadata": {
        "id": "cd5b5db6"
      },
      "source": [
        "## 1 - Préparation\n",
        "\n",
        "### 1.1 - Échange de fichiers textes sur canal public\n",
        "\n",
        "Ce TP a pour objectif de vous faire échanger des messages les uns avec les autres de manière sécurisée par le biais d'un cannal de discussion public. Nous allons pour cela utiliser un thread discord : \n",
        "\n",
        "> Q1 - Connectez-vous au serveur discord et rejoignez le thread CRYPTO.\n",
        "\n",
        "Sur ce thread, vous allez vous échanger des messages sous la forme de fichiers textes. Les consignes suivantes sont à respecter :\n",
        "\n",
        "- Un fichier a un **destinataire** spécifié dans le nom du fichier : `toto.txt` est destiné à Toto. \n",
        "- Un fichier peut être **clair** ou **chiffré**, le nom d'un fichier chiffré est préfixé selon son protocole de chiffrement :\n",
        "\n",
        "| Protocole de chiffrement | Préfixe          | Exemple        |\n",
        "| ------------------------ | ---------------- | -------------- |\n",
        "| Aucun                    |                  | `toto.txt`     |\n",
        "| César                    | `ces`            | `ces_toto.txt` |\n",
        "| XOR                      | `xor`            | `xor_toto.txt` |\n",
        "| Merkle                   | `mer`            | `mer_toto.txt` |\n",
        "| Diffie-Hellman           | `dhm`            | `dhm_toto.txt` |\n",
        "| RSA                      | `rsa`            | `rsa_toto.txt` |\n",
        "\n",
        "- Excepté pour les méthodes de Merkle et Diffie-Hellman, un fichier commence par la ligne `Aujourd'hui il fait beau, Toto va à la plage.`.\n",
        "\n",
        "> Q2 - Regroupez-vous par binomes puis échangez vous sur le thread un message clair en respectant les consignes.\n",
        "\n",
        "### 1.2 - Type bytes, encodage \n",
        "\n",
        "Le type Python `bytes` correspond à une **chaîne non-mutable et non-modifiable d'octets**, il d'agît d'un type de données très proches des données brutes manipulées dans une machine ou échangées sur un réseau. Travailler avec de tels objets plutôt qu'avec des chaînes de caractères permet de mieux apréhender les algorthmes de chiffrements que nous allons voir mais aussi de manipuler des fichiers n'étant pas forcément des textes. \n",
        "\n",
        "On peut construire des objets de ce type de plusieurs manières :"
      ]
    },
    {
      "cell_type": "code",
      "execution_count": 5,
      "id": "3a6a7baa",
      "metadata": {
        "id": "3a6a7baa",
        "outputId": "091406f0-69c2-4683-c4bf-4621cff8729a"
      },
      "outputs": [
        {
          "name": "stdout",
          "output_type": "stream",
          "text": [
            "b'A{\\xeb7'\n",
            "4 65 123\n",
            "\n",
            "b'\\xc3\\xa9l\\xc3\\xa8ve'\n",
            "7 195 169\n",
            "\n",
            "b'\\x04\\x01'\n",
            "2 4 1\n"
          ]
        }
      ],
      "source": [
        "# À partir de tableaux d'entiers entre 0 et 255\n",
        "\n",
        "t = [65,123,235,55]\n",
        "b = bytes(t)\n",
        "t = list(b)\n",
        "\n",
        "print(b)\n",
        "print(len(b), b[0], b[1])\n",
        "print()\n",
        "\n",
        "\n",
        "# En encodant une chaîne de caractère en utf-8\n",
        "\n",
        "s = \"élève\"\n",
        "b = s.encode() \n",
        "s = b.decode()   # les méthodes encodes et décode peuvent prendre en argument le format d'encodage mais par défaut il s'agît de l'utf-8\n",
        "\n",
        "print(b)\n",
        "print(len(b), b[0], b[1])\n",
        "print()\n",
        "\n",
        "# À partir d'un entier qu'on écrit en base 256\n",
        "\n",
        "n = 1025\n",
        "b = int.to_bytes(n,2,'big')   # l'argument 2 sert à préciser le nombre d'octets à utiliser pour encoder l'entier \n",
        "n = int.from_bytes(b, 'big')  # dans les deux cas, l'argument 'big' sert à préciser qu'on lit le binaire de gauche à droite\n",
        "\n",
        "print(b)\n",
        "print(len(b), b[0], b[1])"
      ]
    },
    {
      "cell_type": "markdown",
      "id": "77d29318",
      "metadata": {
        "id": "77d29318"
      },
      "source": [
        "> Q3 - Convertir le tableau `[65,66,67]` en bytes et afficher le résultat, comment l'expliquer ?\n",
        "\n",
        "> Q4 - Convertir le texte `\"école\"` en bytes et en afficher la taille. Pourquoi n'obtient-on pas 5 ? \n",
        "\n",
        "> Q5 - Convertir l'entier `2000` en un bytes `b` (2 octets) et afficher les valeurs de `b[1]` et `b[0]`. Retrouver ces valeurs par le calcul."
      ]
    },
    {
      "cell_type": "code",
      "execution_count": 6,
      "id": "eFr2hMPd0jJ4",
      "metadata": {
        "colab": {
          "base_uri": "https://localhost:8080/"
        },
        "id": "eFr2hMPd0jJ4",
        "outputId": "7cd2d613-fe18-4acb-8d56-c9644650d8c4"
      },
      "outputs": [
        {
          "name": "stdout",
          "output_type": "stream",
          "text": [
            "b'ABC'\n",
            "6\n",
            "7 208\n",
            "208\n",
            "7\n"
          ]
        }
      ],
      "source": [
        "##############\n",
        "# CORRECTION #\n",
        "##############\n",
        "\n",
        "# Q3\n",
        "print(bytes([65,66,67])) # 65, 66, 67 sont les codes ASCII des caractères A, B, C \n",
        "\n",
        "# Q4\n",
        "print(len(\"école\".encode())) # On obtient 6 car en utf-8, le caractère 'é' est codé sur deux octets\n",
        "\n",
        "# Q5\n",
        "b = int.to_bytes(2000, 2, 'big')\n",
        "print(b[0], b[1])\n",
        "\n",
        "# retrouvons ces valeurs en écrivant 2000 en base 256 : \n",
        "print(2000%256)  # chiffre des unités\n",
        "print(2000//256) # nombre de paquets de 256"
      ]
    },
    {
      "cell_type": "markdown",
      "id": "ae7f4ffb",
      "metadata": {
        "id": "ae7f4ffb"
      },
      "source": [
        "Afin de lire et écrire dans nos fichiers textes en Python, nous utiliserons les fonctions suivantes : "
      ]
    },
    {
      "cell_type": "code",
      "execution_count": 7,
      "id": "c2d43a0e",
      "metadata": {
        "id": "c2d43a0e"
      },
      "outputs": [],
      "source": [
        "def f_read(file_name: str):\n",
        "    \"\"\"chargement du fichier file_name dans un bytes\"\"\"\n",
        "    f = open(file_name, 'rb')   # ouvre un flux de données binaires en lecture provenant de \"toto.txt\" \n",
        "    b = f.read()                # stocke le contenu du fichier dans un bytes b \n",
        "    f.close()                   # coupe le flux\n",
        "    return b\n",
        "\n",
        "\n",
        "def f_write(file_name:str, b:bytes):\n",
        "    \"\"\"sauvegarde du bytes b dans le fichier file_name\"\"\"\n",
        "    f = open(file_name, 'wb')   # ouvre un flux de données binaires en lecture provenant de \"toto.txt\" \n",
        "    f.write(b)                  # stocke le contenu du fichier dans un bytes b \n",
        "    f.close()                   # coupe le flux"
      ]
    },
    {
      "cell_type": "markdown",
      "id": "a7f92d7c",
      "metadata": {
        "id": "a7f92d7c"
      },
      "source": [
        "> Q6 - Écrire un script Python comptant le nombre de lettres `'a'` dans un fichier texte.\n",
        "\n",
        "> Q7 - Écrire un script Python générant un fichier texte `\"hello.txt\"` contenant le texte `\"hello world!\"`.\n"
      ]
    },
    {
      "cell_type": "code",
      "execution_count": 8,
      "id": "eCNBDFbc1k5w",
      "metadata": {
        "id": "eCNBDFbc1k5w"
      },
      "outputs": [
        {
          "name": "stdout",
          "output_type": "stream",
          "text": [
            "0\n"
          ]
        }
      ],
      "source": [
        "##############\n",
        "# CORRECTION #\n",
        "##############\n",
        "\n",
        "# Q6\n",
        "\n",
        "# import des données\n",
        "b = f_read(\"toto.txt\")\n",
        "s = b.decode()\n",
        "\n",
        "# on compte les 'a' normalement\n",
        "nb = 0\n",
        "for c in s:\n",
        "  if c == 'a':\n",
        "    nb+=1\n",
        "print(nb)\n",
        "\n",
        "# Q7\n",
        "\n",
        "# encodage du texte\n",
        "b = \"hello world!\".encode()\n",
        "\n",
        "# sauvegarde dans le fichier\n",
        "f_write(\"hello.txt\",b)"
      ]
    },
    {
      "cell_type": "markdown",
      "id": "w2efOLHh15M5",
      "metadata": {
        "id": "w2efOLHh15M5"
      },
      "source": [
        "### 1.3 - Données interprétées, données encodées, données chiffrées\n",
        "\n",
        "Il est important avant de passer à la suite de bien distinguer les différentes formes sous lesquelles des données peuvent être manipulées. Pour cela, prenons l'exemple d'un lecteur de musique. \n",
        "\n",
        "- Données interprétées : pour notre logiciel, un fichier son est une suite de fréquences à transmette à un système son à intervalle de temps régulié. En Python, on pourrait imaginer garder en mémoire:\n",
        " - le nombre `N:int` de sons joués par seconde ;\n",
        " - un tableau `t:list[float]`, la liste de toutes des à jouer, dans l'ordre.\n",
        " \n",
        " \n",
        " \n",
        "- Données encodées : pour garder en mémoire un fichier son sur un ordinateur, celui-ci doit être mis sous la forme d'une suite de bits ou encore d'une suites d'octets, on parle alors de fichier **encodé**. La méthode permettant de passer de données interprétées à des données encodées est appelé le **format d'encodage**, il donne généralement son extention au fichier.\n",
        " - dans notre exemple, on peut encoder notre fichier au format mp3, wav, wma, midi, etc. ;\n",
        " - pour encoder des nombres relatif, on peut utiliser le complément à deux sur un certain nombre de bits (ce n'est pas ce que fait Python) ;\n",
        " - pour encoder des flottants, on utilise le format IEEE754 simple ou double ;\n",
        " - pour encoder un texte, on peut utiliser selon le texte les formats ASCII, latin-$n$, UTF-8, UTF-16, UTF-32, etc.\n",
        " \n",
        " \n",
        " \n",
        " \n",
        "- Données chiffrées : si on veut envoyer par mail un fichier sensible `\"top_secret.mp3\"`, on a tout intérêt à le modifier de sorte qu'une personne malveillante qui intercepterait le mail ne puisse pas le lire sans en avoir l'autorisation. On va donc générer un nouveau fichier `\"top_secret_crypte\"` (l'extention n'a pas d'importance) à partir des octets de `\"top_secret.mp3\"` à l'aide d'un **algorithme de chiffrement**. C'est ce fichier que l'on va envoyer. Le destinataire, avec qui on se sera miis d'accord au préalable, devra alors déchiffrer le fichier avant de le lancer avec son propre lecteur.\n",
        "\n",
        "\n",
        "\n",
        "![Super schéma 1](encodage.jpg)"
      ]
    },
    {
      "cell_type": "markdown",
      "id": "eecd0fb9",
      "metadata": {
        "id": "eecd0fb9"
      },
      "source": [
        "## 2 - Chiffrements symétriques\n",
        "\n",
        "Un **algorithme de chiffrement symétrique** est une méthode permettant de chiffrer des données à l'aide d'une certaine **clée**, cette **même clée** étant nécessaire pour déchiffrer les données.\n",
        "\n",
        "### 2.1 - Chiffrement de César\n",
        "\n",
        "### Principe\n",
        "\n",
        "Le chiffrement de César consiste, dans sa version historique, à effectuer un décalage d'un certain nombre des 26 lettres de l'alphabet dans le but de chiffrer un texte, chaque lettre étant remplacée par une autre. **La valeur du décalage constitue la clé du chiffrement**. \n",
        "\n",
        "Par exemple, avec un décalage de k=3 on transforme les lettre d'un message de la façon suivante :\n",
        "\n",
        "| a | b | c | d | e | f | g | h | i | j | k | l | m | n | o | p | q | r | s | t | u | v | w | x | y | z |\n",
        "|-|-|-|-|-|-|-|-|-|-|-|-|-|-|-|-|-|-|-|-|-|-|-|-|-|-|\n",
        "| d | e | f | g | h | i | j | k | l | m | n | o | p | q | r | s | t | u | v | w | x | y | z | a | b | c |\n",
        "\n",
        "Le message `\"coucou\"` est chiffré en `\"frxfrx\"`.\n",
        "\n",
        "À l'inverse, une personne voulant déchiffrer un message devra alors savoir que le texte original a subi un décalage de 3 pour pouvoir le déchiffrer à l'aide du tableau inverse : \n",
        "\n",
        "| a | b | c | d | e | f | g | h | i | j | k | l | m | n | o | p | q | r | s | t | u | v | w | x | y | z |\n",
        "|-|-|-|-|-|-|-|-|-|-|-|-|-|-|-|-|-|-|-|-|-|-|-|-|-|-|\n",
        "| x | y | z | a | b | c | d | e | f | g | h | i | j | k | l | m | n | o | p | q | r | s | t | u | v | w |\n",
        "\n",
        "Le message chiffré `\"khoor\"` se déchiffre ainsi en `\"hello\"`.\n",
        "\n",
        "> Q1 - chiffrer le message `\"bonjour\"` avec la clé `k = 16`. \n",
        "\n",
        "### Implémentation \n",
        "\n",
        "Informatiquement, il ne sert à rien de ne chiffrer que les lettres. Il est préférable de travailler sur les octets du fichier encodé.\n",
        "\n",
        "> Q2.a - Écrire une fonction `cesar(b:bytes, k:int) -> bytes` prenant en argument une chaîne d'octets `b` et une clé entière `k` et renvoyant la chaîne d'octets obtenue en décalant les octets de `k` (après 255, on revient à 0). \n",
        "\n"
      ]
    },
    {
      "cell_type": "code",
      "execution_count": 10,
      "id": "d4636adc",
      "metadata": {
        "colab": {
          "base_uri": "https://localhost:8080/"
        },
        "id": "d4636adc",
        "outputId": "8d4ff16e-c17a-4ceb-d2e0-662f7a7ee2f1"
      },
      "outputs": [
        {
          "name": "stdout",
          "output_type": "stream",
          "text": [
            "b'\\xf8\\x04\\n\\xf8\\x04\\n'\n"
          ]
        }
      ],
      "source": [
        "##############\n",
        "# CORRECTION #\n",
        "##############\n",
        "\n",
        "# Q2.a\n",
        "\n",
        "def cesar(b:bytes, k:int)->bytes:\n",
        "    t = [(octet+k)%256 for octet in b]\n",
        "    return bytes(t)\n",
        "\n",
        "#test\n",
        "print(cesar(b\"coucou\", 149))"
      ]
    },
    {
      "cell_type": "markdown",
      "id": "1c5f40b2",
      "metadata": {
        "id": "1c5f40b2"
      },
      "source": [
        "> Q2.b - Ci-dessous se trouve un `bytes` chiffré à l'aide de cette fonction avec la clé `k = 149`. Avec quelle clé peut-on le déchiffrer ? "
      ]
    },
    {
      "cell_type": "code",
      "execution_count": 11,
      "id": "918953c9",
      "metadata": {
        "colab": {
          "base_uri": "https://localhost:8080/"
        },
        "id": "918953c9",
        "outputId": "6580d692-6a95-4f4f-93f0-eb3a8dfed8d5"
      },
      "outputs": [
        {
          "name": "stdout",
          "output_type": "stream",
          "text": [
            "Bravo ! Tu as réussi à déchiffrer le message. J'espère que tu t'amuses bien et bon courage pour la suite !\n"
          ]
        }
      ],
      "source": [
        "b = b'\\xd7\\x07\\xf6\\x0b\\x04\\xb5\\xb6\\xb5\\xe9\\n\\xb5\\xf6\\x08\\xb5\\x07X>\\n\\x08\\x08\\xfe\\xb5X5\\xb5\\xf9X>\\xf8\\xfd\\xfe\\xfb\\xfb\\x07\\xfa\\x07\\xb5\\x01\\xfa\\xb5\\x02\\xfa\\x08\\x08\\xf6\\xfc\\xfa\\xc3\\xb5\\xdf\\xbc\\xfa\\x08\\x05X=\\x07\\xfa\\xb5\\x06\\n\\xfa\\xb5\\t\\n\\xb5\\t\\xbc\\xf6\\x02\\n\\x08\\xfa\\x08\\xb5\\xf7\\xfe\\xfa\\x03\\xb5\\xfa\\t\\xb5\\xf7\\x04\\x03\\xb5\\xf8\\x04\\n\\x07\\xf6\\xfc\\xfa\\xb5\\x05\\x04\\n\\x07\\xb5\\x01\\xf6\\xb5\\x08\\n\\xfe\\t\\xfa\\xb5\\xb6'\n",
        "\n",
        "##############\n",
        "# CORRECTION #\n",
        "##############\n",
        "\n",
        "# il fut utiliser la clé -149\n",
        "print(cesar(b, -149).decode())"
      ]
    },
    {
      "cell_type": "markdown",
      "id": "d57f4f67",
      "metadata": {
        "id": "d57f4f67"
      },
      "source": [
        "> Q3.a - À l'aide d'un éditeur de texte, écrire un message secret à destination de votre binome.\n",
        "\n",
        "> Q3.b - Mettez vous d'accord (de manière discrète !) sur une clé de chiffrement partargée.\n",
        "\n",
        "> Q3.c - Écrivez programme Python permettant de chiffrer votre message avec la clé choisie.\n",
        "\n",
        "> Q3.d - Transmettez ce message à votre binome en passant par le canal public. \n",
        "\n",
        "> Q3.e - Écrivez programme Python permettant de déchiffrer le message de votre binome."
      ]
    },
    {
      "cell_type": "code",
      "execution_count": 14,
      "id": "MP-BgKNHxYRn",
      "metadata": {
        "colab": {
          "base_uri": "https://localhost:8080/",
          "height": 235
        },
        "id": "MP-BgKNHxYRn",
        "outputId": "2e3c2e8e-6dc9-404c-aed3-bc6a266b0f55"
      },
      "outputs": [],
      "source": [
        "##############\n",
        "# CORRECTION #\n",
        "##############\n",
        "\n",
        "# chiffrement\n",
        "b = f_read(\"toto.txt\")      # import du fichier \n",
        "b = cesar(b, 149)           # chiffrement avec la clé secrète 149\n",
        "f_write(\"ces_toto.txt\", b)  # export du fichier crypté\n",
        "\n",
        "# déchiffrement \n",
        "\n",
        "# chiffrement\n",
        "\n",
        "\n",
        "b = f_read(\"ces_titi.txt\")  # import du fichier \n",
        "b = cesar(b, -149)          # déchiffrement avec la clé secrète 149\n",
        "f_write(\"tutu.txt\", b)      #export du fichier décrypté"
      ]
    },
    {
      "cell_type": "markdown",
      "id": "206c1277",
      "metadata": {
        "id": "206c1277"
      },
      "source": [
        "### 2.2 - Chiffrement XOR\n",
        "\n",
        "### Petit rappel de première : la fonction booléenne XOR \n",
        "\n",
        "On définit la fonction XOR (ou exclusif) par la table de vérité suivante : \n",
        "\n",
        "| x | y | x $\\oplus$ y |\n",
        "| - | - | - |\n",
        "| 0 | 0 | 0 |\n",
        "| 0 | 1 | 1 |\n",
        "| 1 | 0 | 1 |\n",
        "| 1 | 1 | 0 |\n",
        "\n",
        "Cette fonction possède une propriété intéressante pour le chiffrement de données binaires : \n",
        "\n",
        "*Quelques soient $x$ et $y$ $\\in\\mathbb{B}$,*\n",
        "$$\n",
        "(x\\oplus y)\\oplus y = x\n",
        "$$\n",
        "\n",
        "On voit qu'un booléen $y$ peut servir de clé de chiffrement pour un autre booléen $x$. Dit comme cela ce n'est pas très intéressant, mais consirérons maintenant l'opération XOR sur un octet (8-bits). Étant donnés deux octets $X$ et $Y$, on obtient l'octet $X\\oplus Y$ en effectuant l'opération XOR sur chacuns des 8 bits de $X$ et de $Y$.\n",
        "\n",
        "Prenons un exemple : \n",
        "\n",
        "\n",
        "$$\n",
        "\\begin{array}{cc cccc cccc}\n",
        " &&1&1&1&0& &0&1&0&1\\\\\n",
        "\\oplus&&1&0&1&1& &0&0&0&1\\\\\n",
        "\\hline\n",
        "=&&0&1&0&1& &0&1&0&0\\\\\n",
        "\\end{array}\n",
        "$$\n",
        "\n",
        "Biensur, la propriété valable pour les bits reste valable pour les octets, on a toujours *quelques soient les octets $X$ et $Y$,* \n",
        "$$\n",
        "(X\\oplus Y)\\oplus Y = X\n",
        "$$\n",
        "\n",
        "Vérifions le sur notre exemple\n",
        "\n",
        "$$\n",
        "\\begin{array}{cc cccc cccc}\n",
        " &&1&1&1&0& &0&1&0&1\\\\\n",
        "\\oplus&&1&0&1&1& &0&0&0&1\\\\\n",
        "\\hline\n",
        "=&&0&1&0&1& &0&1&0&0\\\\\n",
        "\\oplus&&1&0&1&1& &0&0&0&1\\\\\n",
        "\\hline\n",
        "=&&1&1&1&0& &0&1&0&1\\\\\n",
        "\\end{array}\n",
        "$$\n",
        "\n",
        "En Python, l'opérateur XOR a pour symbole `^` et peut être utilisé entre deux entiers, l'opération étant effectuée bit par bit. "
      ]
    },
    {
      "cell_type": "code",
      "execution_count": null,
      "id": "0b0647b8",
      "metadata": {
        "id": "0b0647b8",
        "outputId": "b166f280-9da7-41cf-ceeb-46011bc6de59"
      },
      "outputs": [
        {
          "name": "stdout",
          "output_type": "stream",
          "text": [
            "91\n"
          ]
        }
      ],
      "source": [
        "X = 234\n",
        "Y = 177\n",
        "print(X^Y)"
      ]
    },
    {
      "cell_type": "markdown",
      "id": "2cd32599",
      "metadata": {
        "id": "2cd32599"
      },
      "source": [
        "> Q4.a - Vérifier que ce calcul correspond à l'exemple donné plus haut en coalculant les écritures binaire de 234, 177 et 91. \n",
        "\n",
        "> Q4.b - Vérifier la propriété $(X\\oplus K) \\oplus K = X$ avec quelques exemples.\n",
        "\n",
        "### Algorithme de chiffrement \n",
        "\n",
        "On se donne une clé `k` sous la forme d'une chaîne de caractère. Si on veut chiffrer une chaîne d'octets `b`, on procède comme suit : \n",
        "\n",
        "1. convertir `k` en chaîne d'octets ;\n",
        "2. pour chaque octet de `b` :\n",
        " 1. faire correspondre cet octet avec un octet de `k` (si `k` a trop peu d'octet, on repart au premier) ;\n",
        " 2. appliquer l'opération XOR ;\n",
        "3. renvoyer la chaîne d'octets ainsi construite.\n",
        "\n",
        "> Q5.a - Écrire une fonction `xor(b:bytes, k;str) -> bytes` réalisant cet algorithme.\n",
        " "
      ]
    },
    {
      "cell_type": "code",
      "execution_count": 15,
      "id": "e33b4b12",
      "metadata": {
        "colab": {
          "base_uri": "https://localhost:8080/"
        },
        "id": "e33b4b12",
        "outputId": "9b51ba7e-93eb-4996-e168-f5fae31ba2bd"
      },
      "outputs": [
        {
          "name": "stdout",
          "output_type": "stream",
          "text": [
            "b'\\x02\\x01\\x01\\x02\\x01\\x01A\\x02\\x11\\x12N\\x15\\x0c\\x07\\x07'\n",
            "b'coucou les amis'\n"
          ]
        }
      ],
      "source": [
        "##############\n",
        "# CORRECTION #\n",
        "##############\n",
        "\n",
        "def xor(b:bytes, k:str) -> bytes:\n",
        "  k = k.encode()\n",
        "  t = [b[i]^k[i%len(k)] for i in range(len(b))]\n",
        "  return bytes(t)\n",
        "\n",
        "b = xor(b\"coucou les amis\", \"ant\")\n",
        "print(b)\n",
        "print(xor(b, \"ant\"))"
      ]
    },
    {
      "cell_type": "markdown",
      "id": "a479289b",
      "metadata": {
        "id": "a479289b"
      },
      "source": [
        "> Q5.b - Ci-dessous se trouve un `bytes` chiffré à l'aide de cette fonction avec la clé `k = \"martingale\"`. Avec quelle clé peut-on le déchiffrer ? "
      ]
    },
    {
      "cell_type": "code",
      "execution_count": 17,
      "id": "bf52aead",
      "metadata": {
        "colab": {
          "base_uri": "https://localhost:8080/"
        },
        "id": "bf52aead",
        "outputId": "f778cb46-61b6-4f65-dad4-dad7e85f1fb5"
      },
      "outputs": [
        {
          "name": "stdout",
          "output_type": "stream",
          "text": [
            "Décidément on ne t'arrête pas ! Bravo !\n"
          ]
        }
      ],
      "source": [
        "b = b')\\xa2\\xdb\\x17\\x00\\n\\xa4\\xc8\\x01\\x00\\x03\\x15R\\x1b\\x07N\\t\\x04L\\x11J\\x00\\x00\\x06\\xaa\\xc4\\x13\\x04L\\x15\\x0c\\x12RUI,\\x15\\x00\\x1a\\nM@'\n",
        "\n",
        "##############\n",
        "# CORRECTION #\n",
        "##############\n",
        "\n",
        "# Il suffit d'utiliser la même clé, \"martingale\"\n",
        "\n",
        "print(xor(b, \"martingale\").decode())"
      ]
    },
    {
      "cell_type": "markdown",
      "id": "85900fb1",
      "metadata": {
        "id": "85900fb1"
      },
      "source": [
        "> 6.a. À l'aide d'un éditeur de texte, écrire autre un message secret à destination de votre binome.\n",
        "\n",
        "> 6.b. Mettez vous d'accord (de manière discrète !) sur une clé de chiffrement partargée.\n",
        "\n",
        "> 6.c. Écrivez programme Python permettant de chiffrer votre message avec la clé choisie.\n",
        "\n",
        "> 6.d. Transmettez ce message à votre binome en passant par le canal public. \n",
        "\n",
        "> 7.e. Écrivez programme Python permettant de déchiffrer le message de votre binome."
      ]
    },
    {
      "cell_type": "markdown",
      "id": "a7d496c8",
      "metadata": {
        "id": "a7d496c8"
      },
      "source": [
        "## 3 - Chiffrements asymétriques\n",
        "\n",
        "\n",
        "Les chiffrements symétriques sont bien pratiques pour chiffrer des données, mais possèdent une faille majeure : pour s'échanger des messages à l'aide de tels algorithmes, la connaissance de la clé de chiffrement est nécessaire au destinataire afin de déchiffrer le message de l'émetteur. Pour les utiliser, on doit donc se mettre d'accord sur une clé commune. Or :\n",
        "\n",
        "- pas question de se rencontrer physiquement ou d'utiliser un autre canal (cela déplace le problème) ;\n",
        "- pas question de partager la clé de chiffrement en clair (sinon n'importe qui pourra déchiffrer le message).\n",
        "\n",
        "Nous allons voir trois méthodes permettant à deux interlocteurs de se mettre d'accord sur une clé de chiffrement de manère sécurisée, c'est à dire sans qu'un intervenant extérieur ne puisse deviner celle-ci.\n",
        "\n",
        "Pour plus de clareté dans la suite, et afin de décrire les protocoles d'échange de clés, nous désignerons les protagonistes de l'échange avec les noms suivants :\n",
        "\n",
        "- Alice est l'emettrice ;\n",
        "- Bob est le destinataire ; \n",
        "- Eve est une personne cherchant à espionner la conversation entre Alice et Bob.\n",
        "\n",
        "Dans tous les cas, Alice et Bob doivent réussir à se mettre d'accord sur une clé de chiffrement commune en communiquant sur un canal public, sans qu'Eve (qui peut intercepter leurs messages) ne puisse la deviner. \n",
        "\n",
        "### 3.1 Méthode des puzzles de Merkle\n",
        "\n",
        "Le principe des puzzle de Merkle est le suivant : \n",
        "\n",
        "1. Alice génère un grand nombre (par exemple `N = 10000`) de triplets aléatoires `(identifiant, grande_clé, petite_clé)`. Les chiffres du tableau se-dessous sont des valeurs à respecter pour le TP. \n",
        "\n",
        "\n",
        " | chaîne        | utilité                                      | taille | code ASCII des caractères |\n",
        " | ------------- | -------------------------------------------- |------- | ------------------------- |\n",
        " | `identifiant` | sert à identifier les lignes de manière sûre | 12     | entre 33 et 126           |\n",
        " | `grande_cle`  | proposition de clé commune                   | 16     | entre 33 et 126           |\n",
        " | `petite_cle`  | clé servant à chiffrer la ligne              | 4      | entre 65 et 90            |\n",
        " \n",
        " \n",
        "2. Alice génère N lignes de la forme `\"identifiant : <identifiant>, cle <grande_cle>\"`, les encode et les chiffre avec la `petite_cle` correspondante (ici avec un chiffrement XOR). Elle concatène ses lignes et les sauvegarde dans un fichier chiffré.\n",
        "\n",
        "\n",
        "3. Alice envoie le fichier chiffré à Bob. \n",
        "\n",
        "\n",
        "4. Bob choisit une ligne au hasard et casse le chiffrement de cette ligne par force brute (c'est à dire qu'il essaie toutes les combinaisons possibles de `petite_clé` dans le but d'obtenir un message commençant par `\"identifiant : ...\"`)\n",
        "\n",
        "\n",
        "6. Bob envoie à Alice et en clair l'`identifiant` de la ligne.\n",
        "\n",
        "\n",
        "7. Alice et Bob peuvent communiquer avec la `grande_clé` correspondante (Alice retrouvant la clé à l'aide de son identifiant)."
      ]
    },
    {
      "cell_type": "code",
      "execution_count": 18,
      "id": "w2xq7b0-WZ5X",
      "metadata": {
        "id": "w2xq7b0-WZ5X"
      },
      "outputs": [],
      "source": [
        "# exemple de lignes générées\n",
        "t = [\n",
        "  \"identifiant : hdy-gà%jKY)=, cle : u7odiez97&'Rg:.L\",\n",
        "  \"identifiant : dzfuhuez!;:2, cle : {ocids8_ndsi68uq\",\n",
        "  \"identifiant : @iuezgd_5'(), cle : 6857651dsqhg87&&\",\n",
        "  \"identifiant : !:;,diusqh[', cle : %%%doeuzhdez2342\",\n",
        "  \"identifiant : 1sacrehasard, cle : cestvraimentfou!\"     \n",
        "]\n",
        "\n",
        "# les lignes du tableau sont ensuite chiffrées (50 octets) avec les petites clés et converties en un seul bytes (N*50 octets) "
      ]
    },
    {
      "cell_type": "markdown",
      "id": "H8jB5CNaWbk_",
      "metadata": {
        "id": "H8jB5CNaWbk_"
      },
      "source": [
        "![Super schéma 2](merkle.jpg)\n",
        "\n",
        "> Q1 - En imaginant que Bob mette environs 10 seconde à casser le chiffrement de la ligne qu'il a choisit, expliquer pourquoi Eve ne pourra pas facilement deviner la clé commune.\n",
        "\n",
        "> Q2 - Écrire des fonctions Pythons permettant de réaliser les étapes 1, 2, 4 et 6 de la méthode.\n",
        "\n"
      ]
    },
    {
      "cell_type": "code",
      "execution_count": 26,
      "id": "5b226f35",
      "metadata": {
        "colab": {
          "base_uri": "https://localhost:8080/"
        },
        "id": "5b226f35",
        "outputId": "e1ddf484-0747-448e-8a57-3d4461017f3e"
      },
      "outputs": [
        {
          "name": "stdout",
          "output_type": "stream",
          "text": [
            "clé choisie par Bob : 0{N,Cu~ot_Bk%#+]\n",
            "identifiant correspondant : }Uk2Lb`ryDMJ\n",
            "clé retrouvée par Alice : 0{N,Cu~ot_Bk%#+]\n"
          ]
        }
      ],
      "source": [
        "##############\n",
        "# CORRECTION #\n",
        "##############\n",
        "\n",
        "# Q1 Eve va devoir déchiffres TOUTES les lignes afin de connaître la clé correspondant à l'indentifiant échangé (puisque tout est chiffré)\n",
        "# Si il met autant de temps que Bob pour déchiffrer un ligne, cela lui prendra au pire N*10 secondes pour trouver la clé\n",
        "# Pour N=10000 cela donne 100000 secondes, soit environs un jour de calcul\n",
        "\n",
        "# Q2\n",
        "\n",
        "from random import randint\n",
        "\n",
        "def chaine_alea(n,a,b):\n",
        "  \"\"\"génère un str aleatoire de taille n dont les caractères ont un code unicode entre a et b (inclus)\"\"\"\n",
        "  s = \"\"\n",
        "  for i in range(n):\n",
        "    s+=chr(randint(a,b))\n",
        "  return s\n",
        "\n",
        "def generer(N:int):\n",
        "    \"\"\"renvoie le tableau des id, K, k\"\"\"\n",
        "    t = []\n",
        "    for i in range(N):\n",
        "      i = chaine_alea(12, 33, 126)\n",
        "      K = chaine_alea(16, 33, 126)\n",
        "      k = chaine_alea(4, 65, 90)\n",
        "      t.append((i,K,k))\n",
        "    return t\n",
        "\n",
        "def chiffrer(t)->bytes:\n",
        "    \"\"\"chiffre le tableau ligne par ligne avec les petites clés\"\"\"\n",
        "    b = b\"\"\n",
        "    for i, K, k in t:\n",
        "      ligne = \"identifiant : \"+i+\", cle : \"+K\n",
        "      b+= xor(ligne.encode(), k)\n",
        "    return b\n",
        "\n",
        "def choix(b:bytes)->tuple:\n",
        "    \"\"\"choisit une ligne du tableau, casse le chiffrement et renvoie la clé et son identifiant\"\"\"\n",
        "    i = randint(0,len(b)//50-1)\n",
        "    b = b[i*50:(i+1)*50]\n",
        "    lettres = [chr(j) for j in range(65,91)]\n",
        "    for A in lettres:\n",
        "      for B in lettres:\n",
        "        for C in lettres:\n",
        "          for D in lettres:\n",
        "            ligne = xor(b, A+B+C+D)\n",
        "            if ligne[:14] == b\"identifiant : \":\n",
        "              return (ligne[14:14+12], ligne[-16:])\n",
        "\n",
        "def retrouver(t, i):\n",
        "  for j, K, _ in t:\n",
        "    if j == i:\n",
        "      return K\n",
        "  return None\n",
        "\n",
        "t = generer(10)\n",
        "b = chiffrer(t)\n",
        "i, K = choix(b)\n",
        "print(\"clé choisie par Bob :\", K.decode())\n",
        "print(\"identifiant correspondant :\", i.decode())\n",
        "print(\"clé retrouvée par Alice :\", retrouver(t, i.decode()))"
      ]
    },
    {
      "cell_type": "markdown",
      "id": "7467ac6b",
      "metadata": {
        "id": "7467ac6b"
      },
      "source": [
        "> Q3 - En passant par le canal public, utilisez cette méthode pour vous mettre d'accord avec votre binôme sur une clé de chiffrement puis échangez-vous quelques messages chiffrés à l'aide de cette clé.\n",
        "\n",
        "\n",
        "### 3.2 La méthode Diffie-Hellman\n",
        "\n",
        "### Principe \n",
        "\n",
        "La méthode de Diffie-Hellman est une autre méthode permettant à Alice et Bob de se mettre d'accord sur une clé. Basée sur des propriétés arithmétiques, elle est à la fois plus rapide et plus sûre que la méthode des puzzles de Merkle. \n",
        "\n",
        "\n",
        "Pour fonctionner, cette méthode nécessite l'utilisation d'une certaine fonction à deux variables $M$ telle que :\n",
        "\n",
        "- $M(M(x,y),z) = M(M(x, z), z)$ ;\n",
        "- La connaîssance de $x$ et de $M(x, y)$ ne permet pas facilement de retrouver $y$.\n",
        "\n",
        "On fait souvent dans cette méthode une analogie avec des couleurs. $M$ représente le mélange entre deux couleurs $x$ et $y$. \n",
        "\n",
        "> Q4 - Expliquer pourquoi le mélange de couleurs correspond bien aux attentes.\n",
        "\n",
        "Voici le principe de la méthode, expliqué avec des couleurs : \n",
        "\n",
        "1. Alice et Bob disposent d'une couleur publique, disons `jaune`, connue de tous ;\n",
        "2. Ils choisissent chacun une couleur privée, disons `rouge` pour Alice et `bleu` pour Bob ;\n",
        "3. Ils mélangent chacun leur couleur privée avec leur couleur publique et envoient le résultat à l'autre :\n",
        " - Alice envoie `orange` à Bob ;\n",
        " - Bob envoie `vert` à Alice ; \n",
        "4. Chacun ajoute sa couleur privée au mélange qu'il a reçu et obtient la même couleur finale `marron acajou`.\n",
        "\n",
        "> Q5 - Expliquer pourquoi Eve ne peut pas facilement obtenir cette même couleur commune.\n",
        "\n",
        "\n",
        "### Implémentation \n",
        "\n",
        "En pratique, on peut utiliser comme fonction de mélange l'exponentiation modulaire, c'est à dire, étant donné un certain module $p\\geq 2$ premier :\n",
        "\n",
        "$$ M(g,a) = g^a \\text{ mod } p $$\n",
        "\n",
        "En effet, les propriétés de l'exponentiation modulaire (l'opération puissance modulo $n$) sont essentiellement les même que l'exponentiation classique et en particulier : \n",
        "\n",
        "$$ \n",
        "\\begin{align}\n",
        "M(M(g, a),b) &= (g^a)^b \\text{ mod } p \\\\\n",
        "             &= g^{ab} \\text{ mod } p \\\\\n",
        "             &=  (g^b)^a \\text{ mod } p \\\\ \n",
        "             &= M(M(g,b),a)\n",
        "\\end{align}\n",
        "$$\n",
        "\n",
        "En revanche, il est difficile (on ne sait pas le faire de manière efficace) de calculer un logarithme modulaire, c'est à dire de retrouver $a$ à partir de $g^a \\text{ mod } p$.\n",
        "\n",
        "Pour mettre en oeuvre la méthode on procède comme suit :\n",
        "- $p$ et $g$ sont des nombres publics ; \n",
        " - $p$ est le module du chiffrement ;\n",
        " - $g$ est la base du chiffrement (`jaune` dans l'exemple) ;\n",
        "- Alice et Bob gènèrent des nombres privés respectivement $a$ et $b$ (`rouge` et `bleu` dans l'exemple).\n",
        "- Alice et Bob s'échangent $M(g, a)$ et $M(g, b)$ ;\n",
        "- La clé commune secrète est $M(M(g, a),b) = M(M(g,b),a)$\n",
        "\n",
        "> Q6.a - À l'aide de la fonction `pow` (voir la <a href = \"https://docs.python.org/fr/3/library/functions.html#pow\">documentation</a>) écrire une fonction `melange(g: int, a:int, p:int)` générant un bytes de 4 octets encodant l'entier $g^a\\text{ mod }p$.\n",
        "\n",
        "Nous travaillerons avec les valeurs publiques `p = 1364603701` et `g = 382417751` (tous les nombres générés seront encodables sur 4 octets).\n",
        "\n",
        "> Q6.b - Générez un nombre `a` aléatoire entre `0` et `p-1` : ce nombre est secret.\n",
        "\n",
        "> Q6.c - À l'aide de votre fonction `melange` envoyez en clair à votre binome un fichier de 4 octets correspondant au mélange de votre clé privée `a` avec la clé publique `g`.\n",
        "\n",
        "> Q6.d - Décodez le fichier de votre binome et mélanger le résultat avec votre propre clé privée. Le résultat est votre clé de chiffrement commune de 4 octets à interpréter comme un entier ou une chaîne de caractère en fonction d'algorithme de chiffrement souhaité.\n"
      ]
    },
    {
      "cell_type": "code",
      "execution_count": null,
      "id": "nz5guLPjwc8U",
      "metadata": {
        "id": "nz5guLPjwc8U"
      },
      "outputs": [],
      "source": [
        "def melange(g:int, a:int, p:int)->bytes:\n",
        "  pass # à compléter\n",
        "\n",
        "p = 1364603701\n",
        "g = 382417751"
      ]
    },
    {
      "cell_type": "markdown",
      "id": "u2NBzMq6G5mZ",
      "metadata": {
        "id": "u2NBzMq6G5mZ"
      },
      "source": [
        "### 3.3 - Chiffrement RSA \n",
        "\n",
        "### Principe\n",
        "\n",
        "Le chiffrement RSA utilise également des propriétés arithmétiques des entiers pour fonctionner. Voici dans les grandes lignes son fonctionnement :\n",
        "\n",
        "- Alice génère trois nombres, appelés clés RSA : $n$, $e$ et $d$. \n",
        "- Le couple $(n, e)$ constitue la clé publique de Alice, elle le partage en clair à tout le monde.\n",
        "- Le couple $(n, d)$ constitue la clé privée d'Alice. Elle le le partage à personne.\n",
        "\n",
        "Ces trois nombres sont liés par la propriété suivante :\n",
        "$$ \\forall m \\leq n,\\text{ }(m^e)^d \\text{ mod }n = (m^d)^e\\text{ mod }n = m $$\n",
        "\n",
        "Propriété qu'on peut aussi noter : \n",
        "$$ \\forall M\\text{ }, K^\\text{priv}.K^\\text{pub}.M = K^\\text{pub}.K^\\text{priv}.M = M $$\n",
        "\n",
        "Cette propriété offre deux possibilités très intéressantes : \n",
        "\n",
        "1. Bob peut chiffrer un message $M$ à l'aide de la clé publique d'Alice : $M' = K_{\\text{Alice}}^\\text{pub}.M$. Alice sera la seule personne capable de déchiffrer ce message à l'aide de sa clé privée : $M = K_{\\text{Alice}}^\\text{priv}.M'$.\n",
        "\n",
        "2. Alice peut chiffrer un message à l'aide de sa clé privée : $M' = K_{\\text{Alice}}^\\text{priv}.M$. Toute personne pourra déchiffrer ce message à l'aide de la clé publique d'Alice : $M = K_{\\text{Alice}}^\\text{pub}.M'$.\n",
        "\n",
        "\n",
        "La première permet évidemment de communiquer de manière sûre de Bob vers Alice. Pour communiquer de manière sûre de Alice vers Bob, il suffit que Bob génère ces propres clés RSA.\n",
        "\n",
        "La seconde paraît moins utile puisque tout le monde peut déchiffrer le message. On peut cependant en tirer profit en remarquant que seule Alice peut envoyer un message, par exemple `\"coucou\"`, correctement chiffré par cette méthode. Toute personne pouvant déchiffrer le message `\"coucou\"` à l'aide de la clé publique l'Alice est assuré qu'il a effectivement affaire à Alice. C'est le principe des certificats que nous allons voir dans la partie suivante.\n",
        "\n",
        "\n",
        "### Implémentation\n",
        "\n",
        "On vous met à disposition un module RSA dont voici l'interface :\n",
        "\n",
        "| fonction | description |\n",
        "| ------- | ----------- |\n",
        "| `generer_cles(taille:int) -> tuple` | gérère le triplet de clés RSA $(n, e, d)$ |\n",
        "| `exporter_cle(n:int, k:int) -> bytes` | transforme la clé $(n, k)$ où $k = e$ ou $d$ en bytes |\n",
        "| `importer_cle(b:bytes) -> tuple`  | transforme le bytes `b` en clé $(n, k)$ où $k = e$ ou $d$ |\n",
        "| `chiffrer(b:bytes, n:int, k:int) -> bytes` | chiffre le bytes `b` à l'aide de la clé $(n, k)$ où $k = e$ ou $d$ |\n",
        "| `dechiffrer(b:bytes, n:int, k:int) -> bytes`  | déchiffre le bytes `b` à l'aide de la clé $(n, k)$ où $k = e$ ou $d$ |\n",
        "\n",
        "\n",
        "> Q7.a - Téléchargez le module RSA et importez-le dans un programme Python.\n",
        "\n",
        "> Q7.b - Générez des clés $n$, $e$, $d$ puis sauvegardez-les dans deux fichiers `toto_pubkey.rsa` et `toto_privkey.rsa` (remplacez `toto` par votre prénom...) contenant les clés publiques $(n,e)$ et privées $(n,d)$.\n",
        "\n",
        "> Q7.c - Partagez votre fichier de clé publique `toto_pubkey.rsa` sur le canal public. Tout le monde peut maintenant vous envoyer des messages chiffrés.\n",
        "\n",
        "> Q7.d -  Téléchargez le fichier de clé publique de votre binome et importer la clé $(n_{B}, e_{B})$ dans un programme Python.  Vous pouvez maintenant envoyer des message chiffrés à votre binome.\n",
        "\n",
        "En réalité, le chiffrement RSA est trop lent pour servir de chiffrement pour être utilisé pour chiffrer un grand flux de données (discussion, vocale, vidéo, stream, remote play, etc.). \n",
        "\n",
        "Sa sureté et sa capacité à générer des certificats d'authentification en font cependant un excellent moyen d'échanger la clé commune d'une méthode de chiffrement symétrique (plus rapide). \n",
        "\n",
        "> Q8.a - Comment Alice et Bob peuvent utiliser RSA pour se mettre d'accord sur une clé de chiffrement XOR ? \n",
        "\n",
        "> Q8.b - Appliquer cette méthode avec votre binome.\n",
        "\n",
        "\n",
        "## 4 - Authentification\n",
        "\n",
        "Comme expliqué précédemment, le chiffrement RSA permet d'assurer qu'un message donné provient bien d'une personne ayant généré une certaine clé publique. Si c'est bien Alice qui a généré une clé, il lui suffit d'envoyer un message crypté pour prouver son identité.\n",
        "\n",
        "En revanche, comment s'assurer que la clé publique dont on se sert a bien été générée par Alice ? \n",
        "\n",
        "On utilise pour cela une troisième personne Théo, considérée comme étant de confiance et pouvant attester de l'identité d'Alice. La méthode est la suivante : \n",
        "\n",
        "1. Théo génère ses clés $(n_T, e_T, d_T)$ et partage sa clé publique $(n_T, e_T)$. \n",
        "2. Théo génère un certificat $S = K_{\\text{Theo}}^\\text{priv}.K_{\\text{Alice}}^\\text{pub}$ à Alice en chiffrant la clé publique d'Alice avec sa propre clé privée. \n",
        "3. Si Bob veut vérifier qu'Alice est bien Alice, il lui suffit alors déchiffrer le certificat en lui appliquant la clé publique de Théo et de vérifier que le résultat correspond à la clé fournie par Alice :\n",
        "$$ K_{\\text{Theo}}^{\\text{pub}}.S = K_{\\text{Theo}}^{\\text{pub}}.K_{\\text{Theo}}^\\text{priv}.K_{\\text{Alice}}^\\text{pub} = K_{\\text{Alice}}^\\text{pub} $$\n",
        "\n"
      ]
    },
    {
      "cell_type": "code",
      "execution_count": null,
      "id": "kLzMb8B8a2jq",
      "metadata": {
        "id": "kLzMb8B8a2jq"
      },
      "outputs": [],
      "source": []
    }
  ],
  "metadata": {
    "colab": {
      "collapsed_sections": [],
      "name": "ASR4.ipynb",
      "provenance": []
    },
    "kernelspec": {
      "display_name": "Python 3 (ipykernel)",
      "language": "python",
      "name": "python3"
    },
    "language_info": {
      "codemirror_mode": {
        "name": "ipython",
        "version": 3
      },
      "file_extension": ".py",
      "mimetype": "text/x-python",
      "name": "python",
      "nbconvert_exporter": "python",
      "pygments_lexer": "ipython3",
      "version": "3.10.0"
    }
  },
  "nbformat": 4,
  "nbformat_minor": 5
}
